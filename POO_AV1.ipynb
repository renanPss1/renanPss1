{
  "nbformat": 4,
  "nbformat_minor": 0,
  "metadata": {
    "colab": {
      "provenance": [],
      "authorship_tag": "ABX9TyNGv1Mmt+4if/On2SnYY0EQ",
      "include_colab_link": true
    },
    "kernelspec": {
      "name": "python3",
      "display_name": "Python 3"
    },
    "language_info": {
      "name": "python"
    }
  },
  "cells": [
    {
      "cell_type": "markdown",
      "metadata": {
        "id": "view-in-github",
        "colab_type": "text"
      },
      "source": [
        "<a href=\"https://colab.research.google.com/github/renanPss1/renanPss1/blob/main/POO_AV1.ipynb\" target=\"_parent\"><img src=\"https://colab.research.google.com/assets/colab-badge.svg\" alt=\"Open In Colab\"/></a>"
      ]
    },
    {
      "cell_type": "code",
      "source": [
        "#1\n",
        "#Gerador de tabuada\n",
        "def gerar_tabuada(numero):\n",
        "    print(f\"Aqui está a tabuada do {numero}:\")\n",
        "    for i in range(1, 11):\n",
        "        resultado = numero * i  #resultado da multiplicação\n",
        "        print(f\"{numero} x {i} = {resultado}\")\n",
        "\n",
        "#Input para o número da tabuada\n",
        "while True:\n",
        "    numero = int(input(\"digite um número inteiro entre 1 e 10: \"))\n",
        "    gerar_tabuada(numero)\n"
      ],
      "metadata": {
        "id": "yEARZdvOPwcc",
        "outputId": "246890a5-6e5f-437d-e1f7-dd27033cba62",
        "colab": {
          "base_uri": "https://localhost:8080/"
        }
      },
      "execution_count": null,
      "outputs": [
        {
          "metadata": {
            "tags": null
          },
          "name": "stdout",
          "output_type": "stream",
          "text": [
            "Aqui está a tabuada do 5:\n",
            "5 x 1 = 5\n",
            "5 x 2 = 10\n",
            "5 x 3 = 15\n",
            "5 x 4 = 20\n",
            "5 x 5 = 25\n",
            "5 x 6 = 30\n",
            "5 x 7 = 35\n",
            "5 x 8 = 40\n",
            "5 x 9 = 45\n",
            "5 x 10 = 50\n",
            "Aqui está a tabuada do 2:\n",
            "2 x 1 = 2\n",
            "2 x 2 = 4\n",
            "2 x 3 = 6\n",
            "2 x 4 = 8\n",
            "2 x 5 = 10\n",
            "2 x 6 = 12\n",
            "2 x 7 = 14\n",
            "2 x 8 = 16\n",
            "2 x 9 = 18\n",
            "2 x 10 = 20\n"
          ]
        }
      ]
    },
    {
      "cell_type": "code",
      "source": [
        "#2\n",
        "# contador\n",
        "quantidade_pares = 0\n",
        "quantidade_impares = 0\n",
        "\n",
        "#Loop para pedir 10 números\n",
        "for i in range(10):\n",
        "    # pede um numero ate 10\n",
        "    numero = int(input(f\"Digite o {i+1}º número inteiro: \"))\n",
        "\n",
        "    #checa se é par ou impa\n",
        "    if numero % 2 == 0:  #<- checa se é par\n",
        "        quantidade_pares += 1\n",
        "    else:\n",
        "        quantidade_impares += 1\n",
        "\n",
        "#Exibindo o resultado\n",
        "print(f\"Quantidade de números pares: {quantidade_pares}\")   #quantidade de pares\n",
        "print(f\"Quantidade de números ímpares: {quantidade_impares}\")  #quantidade de impares\n"
      ],
      "metadata": {
        "id": "NxBfdoyvgnYn"
      },
      "execution_count": null,
      "outputs": []
    },
    {
      "cell_type": "code",
      "source": [
        "#3\n",
        "numero = int(input(\"Digite um número inteiro: \"))\n",
        "\n",
        "#coloca o numero como verdadeiro\n",
        "eh_primo = True\n",
        "\n",
        "#testa se o numero é = ou menor a 1\n",
        "if numero <= 1:\n",
        "    eh_primo = False\n",
        "else:\n",
        "    #testa divisão\n",
        "    for i in range(2, int(numero ** 0.5) + 1):\n",
        "        if numero % i == 0:  #se dividir não é primo irar acusar como falso\n",
        "            eh_primo = False\n",
        "            break  #mesma coisa que stop\n",
        "\n",
        "#visão do input\n",
        "if eh_primo:\n",
        "    print(f\"{numero} é um número primo.\")\n",
        "else:\n",
        "    print(f\"{numero} não é um número primo.\")\n"
      ],
      "metadata": {
        "id": "QiWyfbfugp8d"
      },
      "execution_count": null,
      "outputs": []
    },
    {
      "cell_type": "code",
      "source": [
        "#4\n",
        "# calculo\n",
        "populacaoA = 80000\n",
        "populacaoB = 200000\n",
        "taxaCrescimentoA = 0.03  #taxa anual do país A 3%\n",
        "taxaCrescimentoB = 0.015  #taxa anual do país B 1.5%\n",
        "#contador de tempo inical\n",
        "anos = 0\n",
        "\n",
        "#loop crescimento\n",
        "while populacaoA < populacaoB:  #enquanto a for menor que b\n",
        "    populacaoA += populacaoA * taxaCrescimentoA  #atualiza a população do país a\n",
        "    populacaoB += populacaoB * taxaCrescimentoB  #atualiza a população do país b\n",
        "\n",
        "    anos += 1  #contador de anos\n",
        "\n",
        "#mensagem de resultado\n",
        "print(\"A população do país A vai ultrapassar a população do país B em anos:\")\n",
        "print(anos)  #tempo em ano\n"
      ],
      "metadata": {
        "id": "1ls0s1KBg0Jz"
      },
      "execution_count": null,
      "outputs": []
    },
    {
      "cell_type": "code",
      "source": [
        "#5\n",
        "preco = 1.99  #preço item\n",
        "\n",
        "#tabela de preços\n",
        "print(\"• Lojas - Tabela de Preços\")\n",
        "for i in range(1, 51):  # de1 a 50 itens\n",
        "    total = i * preco  #calcula o total\n",
        "    print(f\"{i} - R$ {total:.2f}\")  #imprime o número de itens\n",
        "\n",
        "\n",
        "quantidade = input(\"Digite a quantidade de itens: \")  #quantidade de itens\n",
        "quantidade = int(quantidade)  #converte a entrada para inteiro\n",
        "valor_total = quantidade * preco  #calcula o valor total\n",
        "print(f\"total a pagar por {quantidade} itens é: R$ {valor_total:.2f}\")  #imprime o total\n"
      ],
      "metadata": {
        "id": "rk9XWkmGhhai"
      },
      "execution_count": null,
      "outputs": []
    },
    {
      "cell_type": "code",
      "source": [
        "#6\n",
        "#dados iniciais\n",
        "salario = 1000.00  #salário inicial\n",
        "ano = 1995  # ano de contratação\n",
        "ano_final = 2025  #ano final\n",
        "aumento1 = 0.015  #aumento de 1,5% em 1996\n",
        "\n",
        "salario_final = salario  #salário atual\n",
        "\n",
        "#aumento de 1996\n",
        "salario_final += salario_final * aumento1  #aplica aumento\n",
        "\n",
        "#aumentos de 1997 em diante\n",
        "aumento = aumento1 * 2  #novo aumento\n",
        "for i in range(1997, ano_final + 1):  #loop pelos anos\n",
        "    salario_final += salario_final * aumento  #aplica aumento\n",
        "    aumento *= 2  #dobra o aumento\n",
        "\n",
        "#exibe resultado\n",
        "print(\"Salário em 2025: R$\", round(salario_final, 2))  #mostra salário final\n"
      ],
      "metadata": {
        "id": "9wSCx9uniCcw"
      },
      "execution_count": null,
      "outputs": []
    },
    {
      "cell_type": "code",
      "source": [
        "#7\n",
        "#tabela de juros\n",
        "quantidade_parcelas = [1, 3, 6, 9, 12]  #numero de parcelas\n",
        "juros_por_parcela = [0, 10, 15, 20, 25]  #juros em porcentagem\n",
        "\n",
        "#input-valor da dívida\n",
        "divida = float(input(\"Digite o valor da dívida: R$ \"))  #valor da dívida\n",
        "\n",
        "#Cabeçalho da tabela\n",
        "print(\"\\nDívida\\t\\t| Juros | Parcelas | Valor da Parcela\")\n",
        "print(\"-\" * 40)  # linha separadora\n",
        "\n",
        "#Calcula e exibe a tabela\n",
        "for i in range(len(quantidade_parcelas)):\n",
        "    parcelas = quantidade_parcelas[i]  #número de parcelas\n",
        "    juros = juros_por_parcela[i]  #percentual de juros\n",
        "\n",
        "    valor_juros = (divida * juros) / 100  #calcula os juros\n",
        "    valor_total = divida + valor_juros  # total com juros\n",
        "    valor_parcela = valor_total / parcelas  #valor de cada parcela\n",
        "\n",
        "    # Mostra os resultados\n",
        "    print(f\"R$ {valor_total:.2f}\\t| {juros}\\t| {parcelas}\\t| R$ {valor_parcela:.2f}\")\n"
      ],
      "metadata": {
        "id": "gZGP_c-klEjQ"
      },
      "execution_count": null,
      "outputs": []
    },
    {
      "cell_type": "code",
      "source": [
        "#8\n",
        "def main():\n",
        "    gabarito = ['A', 'B', 'C', 'D', 'E', 'E', 'D', 'C', 'B', 'A']  # gabarito da prova\n",
        "    notas = []  # lista para armazenar as notas dos alunos\n",
        "    while True:\n",
        "        print(\"\\n--- Sistema de Verificação de Prova ---\")\n",
        "        respostas_aluno = []  # respostas do aluno\n",
        "        for i in range(1, 11):\n",
        "            resposta = input(f\"Digite a resposta da questão {i}: \").strip().upper()  # entrada do aluno\n",
        "            respostas_aluno.append(resposta)  # adiciona resposta\n",
        "        acertos = 0  # contador de acertos\n",
        "        for j in range(len(gabarito)):\n",
        "            if respostas_aluno[j] == gabarito[j]:  # verifica acertos\n",
        "                acertos += 1\n",
        "        notas.append(acertos)  # armazena acertos\n",
        "        print(f\"total de acertos: {acertos}\")  # mostra acertos\n",
        "        if input(\"outro aluno vai utilizar o sistema? (S/N): \").strip().upper() != 'S':\n",
        "            break  # sai do loop\n",
        "    if notas:  # se houver notas\n",
        "        maior_acerto = max(notas)  # maior acerto\n",
        "        menor_acerto = min(notas)  # menor acerto\n",
        "        total_alunos = len(notas)  # total de alunos\n",
        "        media_notas = sum(notas) / total_alunos  # média das notas\n",
        "        print(\"Resultados Finais\")\n",
        "        print(f\"Maior acerto: {maior_acerto}\")  # mostra maior acerto\n",
        "        print(f\"Menor acerto: {menor_acerto}\")  # mostra menor acerto\n",
        "        print(f\"Total de alunos: {total_alunos}\")  # mostra total de alunos\n",
        "        print(f\"Média das notas: {media_notas:.2f}\")  # mostra média das notas\n",
        "\n",
        "if __name__ == \"__main__\":\n",
        "    main()"
      ],
      "metadata": {
        "id": "UKCIDhLPn6rG"
      },
      "execution_count": null,
      "outputs": []
    }
  ]
}